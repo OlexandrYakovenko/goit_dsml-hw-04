{
  "nbformat": 4,
  "nbformat_minor": 0,
  "metadata": {
    "colab": {
      "provenance": []
    },
    "kernelspec": {
      "name": "python3",
      "display_name": "Python 3"
    },
    "language_info": {
      "name": "python"
    }
  },
  "cells": [
    {
      "cell_type": "markdown",
      "source": [
        "1. Створіть одновимірний масив (вектор) з першими 10-ма натуральними числами та виведіть його значення."
      ],
      "metadata": {
        "id": "-Jebz-OIfpdb"
      }
    },
    {
      "cell_type": "code",
      "source": [
        "import numpy as np\n",
        "\n",
        "a = np.arange(1, 11, 1)\n",
        "print(a)\n",
        "\n"
      ],
      "metadata": {
        "colab": {
          "base_uri": "https://localhost:8080/"
        },
        "id": "NqOl4l18fsbU",
        "outputId": "273343b3-b5a5-4b96-a163-dfad969d385f"
      },
      "execution_count": 30,
      "outputs": [
        {
          "output_type": "stream",
          "name": "stdout",
          "text": [
            "[ 1  2  3  4  5  6  7  8  9 10]\n"
          ]
        }
      ]
    },
    {
      "cell_type": "markdown",
      "source": [
        "2. Створіть двовимірний масив (матрицю) розміром 3x3, заповніть його нулями та виведіть його значення."
      ],
      "metadata": {
        "id": "wJQuD5xChUPo"
      }
    },
    {
      "cell_type": "code",
      "source": [
        "b = np.zeros((3,3),dtype=int)\n",
        "print(b)"
      ],
      "metadata": {
        "colab": {
          "base_uri": "https://localhost:8080/"
        },
        "id": "b7HqLU-khWev",
        "outputId": "05ede727-33a0-49ec-dbd0-57454da55145"
      },
      "execution_count": 11,
      "outputs": [
        {
          "output_type": "stream",
          "name": "stdout",
          "text": [
            "[[0 0 0]\n",
            " [0 0 0]\n",
            " [0 0 0]]\n"
          ]
        }
      ]
    },
    {
      "cell_type": "markdown",
      "source": [
        "3. Створіть масив розміром 5x5, заповніть його випадковими цілими числами в діапазоні від 1 до 10 та виведіть його значення."
      ],
      "metadata": {
        "id": "ht1Tteawhza5"
      }
    },
    {
      "cell_type": "code",
      "source": [
        "import random\n",
        "import numpy as np\n",
        "\n",
        "m = np.ones((5, 5), dtype=int)\n",
        "\n",
        "for i in range(1,6):\n",
        "  for j in range(1,6):\n",
        "    m [i-1][j-1] = random.randint(1,10)\n",
        "\n",
        "print(m)"
      ],
      "metadata": {
        "colab": {
          "base_uri": "https://localhost:8080/"
        },
        "id": "EL4-bZzth4Vj",
        "outputId": "88080fc2-a089-4ab0-a723-dab7dc8acd07"
      },
      "execution_count": 20,
      "outputs": [
        {
          "output_type": "stream",
          "name": "stdout",
          "text": [
            "[[ 9  6  5  5  8]\n",
            " [ 9  6 10  6 10]\n",
            " [ 7  3  8  5  3]\n",
            " [ 5  8  5  2  9]\n",
            " [ 5  5  2  7  8]]\n"
          ]
        }
      ]
    },
    {
      "cell_type": "markdown",
      "source": [
        "4. Створіть масив розміром 4x4, заповніть його випадковими дійсними числами в діапазоні від 0 до 1 та виведіть його значення."
      ],
      "metadata": {
        "id": "8f-XHqz1np1_"
      }
    },
    {
      "cell_type": "code",
      "source": [
        "import random\n",
        "import numpy as np\n",
        "\n",
        "b = np.random.random((4, 4))\n",
        "\n",
        "print(b)"
      ],
      "metadata": {
        "colab": {
          "base_uri": "https://localhost:8080/"
        },
        "id": "JkgYyCibnvrp",
        "outputId": "009668d8-7163-4df2-cdc4-b7d81bbb8b73"
      },
      "execution_count": 70,
      "outputs": [
        {
          "output_type": "stream",
          "name": "stdout",
          "text": [
            "[[0.75426407 0.2856175  0.28964191 0.62579985]\n",
            " [0.47239273 0.34046085 0.94746776 0.45792179]\n",
            " [0.91995727 0.8048474  0.69805331 0.24641015]\n",
            " [0.95311077 0.24384824 0.12433455 0.5106484 ]]\n"
          ]
        }
      ]
    },
    {
      "cell_type": "markdown",
      "source": [
        "5. Створіть два одновимірних масиви розміром 5, заповніть їх випадковими цілими числами в діапазоні від 1 до 10 та виконайте на них поелементні операції додавання, віднімання та множення."
      ],
      "metadata": {
        "id": "oC7nssxqr2cc"
      }
    },
    {
      "cell_type": "code",
      "source": [
        "rng = np.random.default_rng()\n",
        "a = rng.integers(1,11,5)\n",
        "print(\"a:\\n\",a)\n",
        "b = rng.integers(1,11,5)\n",
        "print(\"b:\\n\",b)\n",
        "\n",
        "a_plus_b = a+b\n",
        "print(\"a_plus_b:\\n\",a_plus_b)\n",
        "a_minus_b = a - b\n",
        "print(\"a_minus_b:\\n\",a_minus_b)\n",
        "a_multiple_b = a * b\n",
        "print(\"a_multiple_b:\\n\",a_multiple_b)\n"
      ],
      "metadata": {
        "colab": {
          "base_uri": "https://localhost:8080/"
        },
        "id": "ia5VhGq3sBB1",
        "outputId": "235d347e-1574-49f5-b890-f3df32d679b0"
      },
      "execution_count": 45,
      "outputs": [
        {
          "output_type": "stream",
          "name": "stdout",
          "text": [
            "a:\n",
            " [1 8 7 9 3]\n",
            "b:\n",
            " [3 7 6 6 5]\n",
            "a_plus_b:\n",
            " [ 4 15 13 15  8]\n",
            "a_minus_b:\n",
            " [-2  1  1  3 -2]\n",
            "a_multiple_b:\n",
            " [ 3 56 42 54 15]\n"
          ]
        }
      ]
    },
    {
      "cell_type": "markdown",
      "source": [
        "6. Створіть два вектори розміром 7, заповніть довільними числами та знайдіть їх скалярний добуток."
      ],
      "metadata": {
        "id": "8D9XNFt3EBEy"
      }
    },
    {
      "cell_type": "code",
      "source": [
        "c = np.random.random(7)\n",
        "print(\"c: \\n\",c)\n",
        "d = np.random.random(7)\n",
        "print(\"d: \\n\",d)\n",
        "c_mult_d = c*d\n",
        "print(\"c_mult_d: \\n\",c_mult_d)"
      ],
      "metadata": {
        "colab": {
          "base_uri": "https://localhost:8080/"
        },
        "id": "fKDu9aBHEN8k",
        "outputId": "13787e46-978a-4009-d35c-c563012eb33a"
      },
      "execution_count": 66,
      "outputs": [
        {
          "output_type": "stream",
          "name": "stdout",
          "text": [
            "c: \n",
            " [0.04127394 0.17207948 0.10374506 0.82566443 0.76186167 0.55245984\n",
            " 0.0242994 ]\n",
            "d: \n",
            " [0.70809154 0.15339156 0.35946883 0.58253576 0.86202761 0.42390649\n",
            " 0.00767204]\n",
            "c_mult_d: \n",
            " [2.92257254e-02 2.63955396e-02 3.72931172e-02 4.80979055e-01\n",
            " 6.56745789e-01 2.34191308e-01 1.86425888e-04]\n"
          ]
        }
      ]
    },
    {
      "cell_type": "markdown",
      "source": [
        "7. Створіть дві матриці розміром 2x2 та 2x3, заповніть їх випадковими цілими числами в діапазоні від 1 до 10 та перемножте їх між собою."
      ],
      "metadata": {
        "id": "Fljbch7JFnmu"
      }
    },
    {
      "cell_type": "code",
      "source": [
        "rng = np.random.default_rng()\n",
        "e = rng.integers(1,11,(2,2))\n",
        "print(\"e:\\n\",e)\n",
        "f = rng.integers(1,11,(2,3))\n",
        "print(\"f:\\n\",f)\n",
        "\n",
        "e_dot_f = np.dot(e,f)\n",
        "print(\"e_dot_f:\\n\",e_dot_f)"
      ],
      "metadata": {
        "colab": {
          "base_uri": "https://localhost:8080/"
        },
        "id": "NKID0kCAF0A8",
        "outputId": "40c1b861-2127-4d99-851f-7f9a77a6f229"
      },
      "execution_count": 59,
      "outputs": [
        {
          "output_type": "stream",
          "name": "stdout",
          "text": [
            "e:\n",
            " [[3 5]\n",
            " [1 6]]\n",
            "f:\n",
            " [[ 2  2  5]\n",
            " [ 3  1 10]]\n",
            "e_dot_f:\n",
            " [[21 11 65]\n",
            " [20  8 65]]\n"
          ]
        }
      ]
    },
    {
      "cell_type": "markdown",
      "source": [
        "8. Створіть матрицю розміром 3x3, заповніть її випадковими цілими числами в діапазоні від 1 до 10 та знайдіть її обернену матрицю."
      ],
      "metadata": {
        "id": "woFANIBRJ1r9"
      }
    },
    {
      "cell_type": "code",
      "source": [
        "rng = np.random.default_rng()\n",
        "g = rng.integers(1,11,(3,3))\n",
        "print(\"g:\\n\",d)\n",
        "\n",
        "g_t = g.T\n",
        "print(\"g_t:\\n\",g_t)"
      ],
      "metadata": {
        "colab": {
          "base_uri": "https://localhost:8080/"
        },
        "id": "KsBbtRiiJ6dk",
        "outputId": "0125dedf-8153-4113-9612-2737deca6673"
      },
      "execution_count": 62,
      "outputs": [
        {
          "output_type": "stream",
          "name": "stdout",
          "text": [
            "g:\n",
            " [[ 4  8  3]\n",
            " [ 3  9 10]\n",
            " [ 3  5  2]]\n",
            "g_t:\n",
            " [[ 6  5  7]\n",
            " [10  2  2]\n",
            " [ 3  9  7]]\n"
          ]
        }
      ]
    },
    {
      "cell_type": "markdown",
      "source": [
        "9. Створіть матрицю розміром 4x4, заповніть її випадковими дійсними числами в діапазоні від 0 до 1 та транспонуйте її."
      ],
      "metadata": {
        "id": "-GQPmtCHKYpH"
      }
    },
    {
      "cell_type": "code",
      "source": [
        "h = np.random.random((4,4))\n",
        "print(\"h: \\n\",h)\n",
        "h_T = h.T\n",
        "print(\"h_T: \\n\",h_T)"
      ],
      "metadata": {
        "colab": {
          "base_uri": "https://localhost:8080/"
        },
        "id": "wMZGRC1fKcsH",
        "outputId": "0e69f983-87b3-4700-dbf5-6d83dd7404f2"
      },
      "execution_count": 64,
      "outputs": [
        {
          "output_type": "stream",
          "name": "stdout",
          "text": [
            "h: \n",
            " [[0.54221887 0.86298212 0.59712724 0.10305713]\n",
            " [0.4579516  0.92252393 0.77629868 0.29009196]\n",
            " [0.48629641 0.43789003 0.21938662 0.00426368]\n",
            " [0.87269338 0.67648844 0.93316303 0.04023816]]\n",
            "h_T: \n",
            " [[0.54221887 0.4579516  0.48629641 0.87269338]\n",
            " [0.86298212 0.92252393 0.43789003 0.67648844]\n",
            " [0.59712724 0.77629868 0.21938662 0.93316303]\n",
            " [0.10305713 0.29009196 0.00426368 0.04023816]]\n"
          ]
        }
      ]
    },
    {
      "cell_type": "markdown",
      "source": [
        "10. Створіть матрицю розміром 3x4 та вектор розміром 4, заповніть їх випадковими цілими числами в діапазоні від 1 до 10 та перемножте матрицю на вектор."
      ],
      "metadata": {
        "id": "nfsFhy9jK8OT"
      }
    },
    {
      "cell_type": "code",
      "source": [
        "rng = np.random.default_rng()\n",
        "e = rng.integers(1,11,(3,4))\n",
        "print(\"e:\\n\",e)\n",
        "f = rng.integers(1,11,(4))\n",
        "print(\"f:\\n\",f)\n",
        "\n",
        "e_dot_f = np.dot(e,f)\n",
        "print(\"e_dot_f:\\n\",e_dot_f)"
      ],
      "metadata": {
        "colab": {
          "base_uri": "https://localhost:8080/"
        },
        "id": "RLmERVpaLAjc",
        "outputId": "9d2f5efb-5cb5-49f0-ab39-088c110e501a"
      },
      "execution_count": 65,
      "outputs": [
        {
          "output_type": "stream",
          "name": "stdout",
          "text": [
            "e:\n",
            " [[ 9 10  2  6]\n",
            " [10  7  4  8]\n",
            " [10  5  9  9]]\n",
            "f:\n",
            " [1 7 5 7]\n",
            "e_dot_f:\n",
            " [131 135 153]\n"
          ]
        }
      ]
    },
    {
      "cell_type": "markdown",
      "source": [
        "11. Створіть матрицю розміром 2x3 та вектор розміром 3, заповніть їх випадковими дійсними числами в діапазоні від 0 до 1 та перемножте матрицю на вектор."
      ],
      "metadata": {
        "id": "ZTlCu3AgLYfn"
      }
    },
    {
      "cell_type": "code",
      "source": [
        "j = np.random.random((2,3))\n",
        "print(\"j: \\n\",j)\n",
        "k = np.random.random((3))\n",
        "print(\"k: \\n\",k)\n",
        "j_dot_k = np.dot(j,k)\n",
        "print(\"j_dot_k: \\n\",j_dot_k)"
      ],
      "metadata": {
        "colab": {
          "base_uri": "https://localhost:8080/"
        },
        "id": "twS35YhPLcdY",
        "outputId": "5dcb9b03-8efd-4bf1-e261-8b5b166479ae"
      },
      "execution_count": 69,
      "outputs": [
        {
          "output_type": "stream",
          "name": "stdout",
          "text": [
            "j: \n",
            " [[0.76436189 0.50264357 0.98833995]\n",
            " [0.88701412 0.92194913 0.78687198]]\n",
            "k: \n",
            " [0.90927271 0.74182621 0.55985105]\n",
            "j_dot_k: \n",
            " [1.62121074 1.93099486]\n"
          ]
        }
      ]
    },
    {
      "cell_type": "markdown",
      "source": [
        "12. Створіть дві матриці розміром 2x2, заповніть їх випадковими цілими числами в діапазоні від 1 до 10 та виконайте їхнє поелементне множення."
      ],
      "metadata": {
        "id": "WFecdSF9Mm1-"
      }
    },
    {
      "cell_type": "code",
      "source": [
        "rng = np.random.default_rng()\n",
        "e = rng.integers(1,11,(2,2))\n",
        "print(\"e:\\n\",e)\n",
        "f = rng.integers(1,11,(2,2))\n",
        "print(\"f:\\n\",f)\n",
        "\n",
        "e_mult_f = e * f\n",
        "print(\"e_mult_f:\\n\",e_mult_f)"
      ],
      "metadata": {
        "colab": {
          "base_uri": "https://localhost:8080/"
        },
        "id": "micIT5xiMwIn",
        "outputId": "a90d6ddd-0290-43c8-87c6-f1d0f4c2764d"
      },
      "execution_count": 71,
      "outputs": [
        {
          "output_type": "stream",
          "name": "stdout",
          "text": [
            "e:\n",
            " [[ 8  2]\n",
            " [10  3]]\n",
            "f:\n",
            " [[5 3]\n",
            " [6 5]]\n",
            "e_mult_f:\n",
            " [[40  6]\n",
            " [60 15]]\n"
          ]
        }
      ]
    },
    {
      "cell_type": "markdown",
      "source": [
        "13. Створіть дві матриці розміром 2x2, заповніть їх випадковими цілими числами в діапазоні від 1 до 10 та знайдіть їх добуток."
      ],
      "metadata": {
        "id": "QOQkuXNHNlud"
      }
    },
    {
      "cell_type": "code",
      "source": [
        "rng = np.random.default_rng()\n",
        "e = rng.integers(1,11,(2,2))\n",
        "print(\"e:\\n\",e)\n",
        "f = rng.integers(1,11,(2,2))\n",
        "print(\"f:\\n\",f)\n",
        "\n",
        "e_dot_f = np.dot(e,f)\n",
        "print(\"e_dot_f:\\n\",e_dot_f)"
      ],
      "metadata": {
        "colab": {
          "base_uri": "https://localhost:8080/"
        },
        "id": "h5Q7ukXENqlV",
        "outputId": "a2fcf5e2-9277-42c6-edd9-65300db37e09"
      },
      "execution_count": 72,
      "outputs": [
        {
          "output_type": "stream",
          "name": "stdout",
          "text": [
            "e:\n",
            " [[7 4]\n",
            " [6 4]]\n",
            "f:\n",
            " [[ 5  3]\n",
            " [10  5]]\n",
            "e_dot_f:\n",
            " [[75 41]\n",
            " [70 38]]\n"
          ]
        }
      ]
    },
    {
      "cell_type": "markdown",
      "source": [
        "14. Створіть матрицю розміром 5x5, заповніть її випадковими цілими числами в діапазоні від 1 до 100 та знайдіть суму елементів матриці."
      ],
      "metadata": {
        "id": "qCozFS0hOn9N"
      }
    },
    {
      "cell_type": "code",
      "source": [
        "rng = np.random.default_rng()\n",
        "n = rng.integers(1,101,(5,5))\n",
        "print(\"n:\\n\",n)\n",
        "print(\"n.sum()=\",n.sum())"
      ],
      "metadata": {
        "colab": {
          "base_uri": "https://localhost:8080/"
        },
        "id": "vTcYmR-pOsg1",
        "outputId": "7a333715-e826-4168-8296-50fb7f46a975"
      },
      "execution_count": 74,
      "outputs": [
        {
          "output_type": "stream",
          "name": "stdout",
          "text": [
            "n:\n",
            " [[ 25  41  41  44  96]\n",
            " [ 83 100  61   8  64]\n",
            " [ 22  18  54  88  69]\n",
            " [ 64   6 100  86  33]\n",
            " [ 60   1  89  21  79]]\n",
            "n.sum()= 1353\n"
          ]
        }
      ]
    },
    {
      "cell_type": "markdown",
      "source": [
        "15. Створіть дві матриці розміром 4x4, заповніть їх випадковими цілими числами в діапазоні від 1 до 10 та знайдіть їхню різницю."
      ],
      "metadata": {
        "id": "8KnSpW2-PQ5J"
      }
    },
    {
      "cell_type": "code",
      "source": [
        "rng = np.random.default_rng()\n",
        "k = rng.integers(1,11,(4,4))\n",
        "print(\"k:\\n\",k)\n",
        "m = rng.integers(1,11,(4,4))\n",
        "print(\"m:\\n\",m)\n",
        "k_minus_m = k - m\n",
        "print(\"k_minus_m:\\n\",k_minus_m)"
      ],
      "metadata": {
        "colab": {
          "base_uri": "https://localhost:8080/"
        },
        "id": "6rC1MUp4PVTK",
        "outputId": "0515bba3-d34a-4c80-cb99-0dd4a4b1ab99"
      },
      "execution_count": 75,
      "outputs": [
        {
          "output_type": "stream",
          "name": "stdout",
          "text": [
            "k:\n",
            " [[ 2  9  6 10]\n",
            " [ 2  1 10 10]\n",
            " [ 6  7  1 10]\n",
            " [ 6 10  3  1]]\n",
            "m:\n",
            " [[ 2  1 10  5]\n",
            " [ 4  4  6  1]\n",
            " [ 4  4  2  9]\n",
            " [ 8  3  2  5]]\n",
            "k_minus_m:\n",
            " [[ 0  8 -4  5]\n",
            " [-2 -3  4  9]\n",
            " [ 2  3 -1  1]\n",
            " [-2  7  1 -4]]\n"
          ]
        }
      ]
    },
    {
      "cell_type": "markdown",
      "source": [
        "16. Створіть матрицю розміром 3x3, заповніть її випадковими дійсними числами в діапазоні від 0 до 1 та знайдіть вектор-стовпчик, що містить суму елементів кожного рядка матриці."
      ],
      "metadata": {
        "id": "L-ZCCcSMPwFU"
      }
    },
    {
      "cell_type": "code",
      "source": [
        "j = np.random.random((3,3))\n",
        "print(\"j: \\n\",j)\n",
        "\n",
        "sum_of_rows = np.sum(j,axis=1)\n",
        "column_vector = sum_of_rows[:, np.newaxis]\n",
        "print(\"column_vector: \\n\",column_vector)"
      ],
      "metadata": {
        "colab": {
          "base_uri": "https://localhost:8080/"
        },
        "id": "6SJBEpefPz7m",
        "outputId": "ff82e0ad-cdd4-4a86-e76c-4075b6b3025d"
      },
      "execution_count": 76,
      "outputs": [
        {
          "output_type": "stream",
          "name": "stdout",
          "text": [
            "j: \n",
            " [[0.91441932 0.48791162 0.85991337]\n",
            " [0.64640177 0.00166714 0.63551177]\n",
            " [0.68311051 0.66666399 0.20075045]]\n",
            "column_vector: \n",
            " [[2.26224431]\n",
            " [1.28358068]\n",
            " [1.55052494]]\n"
          ]
        }
      ]
    },
    {
      "cell_type": "markdown",
      "source": [
        "17. Створіть матрицю розміром 3x4 з довільними цілими числами і створіnь матрицю з квадратами цих чисел."
      ],
      "metadata": {
        "id": "Q07IQdM8Q0UE"
      }
    },
    {
      "cell_type": "code",
      "source": [
        "rng = np.random.default_rng()\n",
        "n = rng.integers(1,101,(3,4))\n",
        "print(\"n:\\n\",n)\n",
        "k = np.copy(n)\n",
        "print(\"k:\\n\",k)\n",
        "n_pow_2 = n * k\n",
        "print(\"n_pow_2:\\n\",n_pow_2)"
      ],
      "metadata": {
        "colab": {
          "base_uri": "https://localhost:8080/"
        },
        "id": "6Bf_3b2MQ5DW",
        "outputId": "6dbbd0b0-7bd7-4173-fcc4-7c6d01c2ca43"
      },
      "execution_count": 80,
      "outputs": [
        {
          "output_type": "stream",
          "name": "stdout",
          "text": [
            "n:\n",
            " [[74 17 50  8]\n",
            " [12 95 43 77]\n",
            " [66 99  3 26]]\n",
            "k:\n",
            " [[74 17 50  8]\n",
            " [12 95 43 77]\n",
            " [66 99  3 26]]\n",
            "n_pow_2:\n",
            " [[5476  289 2500   64]\n",
            " [ 144 9025 1849 5929]\n",
            " [4356 9801    9  676]]\n"
          ]
        }
      ]
    },
    {
      "cell_type": "markdown",
      "source": [
        "18. Створіть вектор розміром 4, заповніть його випадковими цілими числами в діапазоні від 1 до 50 та знайдіть вектор з квадратними коренями цих чисел."
      ],
      "metadata": {
        "id": "vgS59JhySH_l"
      }
    },
    {
      "cell_type": "code",
      "source": [
        "rng = np.random.default_rng()\n",
        "j = rng.integers(1,51,(4))\n",
        "print(\"j: \\n\",j)\n",
        "\n",
        "sqrt_of_rows = np.sqrt(j)\n",
        "column_vector = sqrt_of_rows[:, np.newaxis]\n",
        "print(\"column_vector: \\n\",column_vector)"
      ],
      "metadata": {
        "colab": {
          "base_uri": "https://localhost:8080/"
        },
        "id": "f6S_SevrSTQf",
        "outputId": "9f6e56b7-032e-4857-a5c3-7f013fb2d9e5"
      },
      "execution_count": 85,
      "outputs": [
        {
          "output_type": "stream",
          "name": "stdout",
          "text": [
            "j: \n",
            " [12 17 27 27]\n",
            "column_vector: \n",
            " [[3.46410162]\n",
            " [4.12310563]\n",
            " [5.19615242]\n",
            " [5.19615242]]\n"
          ]
        }
      ]
    }
  ]
}